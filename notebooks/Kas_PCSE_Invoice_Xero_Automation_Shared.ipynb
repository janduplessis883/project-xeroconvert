{
  "nbformat": 4,
  "nbformat_minor": 0,
  "metadata": {
    "colab": {
      "provenance": []
    },
    "kernelspec": {
      "name": "python3",
      "display_name": "Python 3"
    },
    "language_info": {
      "name": "python"
    }
  },
  "cells": [
    {
      "cell_type": "markdown",
      "source": [
        "# **PCSE** GMS Invoice **/ Xero Automation** v2.0\n",
        "`code by Jan du Plessis`<BR>\n",
        "\n",
        ">**GitHub** https://github.com/janduplessis883<BR>\n",
        "**Email** drjanduplessis@icloud.com<BR>\n",
        "**Twitter** @janduplessis<BR>\n",
        "\n",
        "\n",
        "1.   To use this Automation **Save copy to DRIVE** form the File menu.\n",
        "2.   On **first use**, follow the instructions and **RUN** each code sell individually.\n",
        "3.   Once configured, speed up invoice processing by using **Run All** cells from the Runtime menu.\n",
        "\n",
        "\n",
        "\n"
      ],
      "metadata": {
        "id": "QWj2VhNUm1HF"
      }
    },
    {
      "cell_type": "markdown",
      "source": [
        "# Installing required **Python modules**"
      ],
      "metadata": {
        "id": "6X9kQ34dn8t4"
      }
    },
    {
      "cell_type": "code",
      "source": [
        "!pip install PyPDF2"
      ],
      "metadata": {
        "id": "cGoVEv2JXqI7",
        "colab": {
          "base_uri": "https://localhost:8080/"
        },
        "outputId": "fe66b94f-0c9d-407b-96eb-c08aa9490b88"
      },
      "execution_count": null,
      "outputs": [
        {
          "output_type": "stream",
          "name": "stdout",
          "text": [
            "Requirement already satisfied: PyPDF2 in /usr/local/lib/python3.10/dist-packages (3.0.1)\n"
          ]
        }
      ]
    },
    {
      "cell_type": "markdown",
      "source": [
        "# Extracting **text** from PDF Invoice.\n",
        "\n",
        "Download GMS Invoice from [PSCE Online](https://pcse.england.nhs.uk/). Download **Extended PDF version** to your hard drive.<BR>\n",
        "**Upload PDF** to Colabs enviroment - see left panel (folder icon).<BR>\n",
        "Right click file in left panel, select **Copy Path**<BR>\n",
        "Paste **File Path** prompted, when the next code segment runs.\n",
        "## ✋ **INPUT REQUIRED** in the next code cell."
      ],
      "metadata": {
        "id": "a1fJH1TioZiq"
      }
    },
    {
      "cell_type": "code",
      "source": [
        "from PyPDF2 import PdfReader\n",
        "\n",
        "# Collect required information\n",
        "#invoice_pdf_net = float(input(\"Enter GMS Payment received acc. Bank Statement?: £\"))\n",
        "invoice_date_input = input(\"What is the invoice date? Format: 'DD-MMM-YYYY' \")\n",
        "invoice_number_input = input(\"Specify unique Xero Invoice Number: AutoINV-\")\n",
        "invoice_number_input = \"AutoINV-\" + invoice_number_input\n",
        "pdf_path = input(\"Paste (ctrl V) 'file path' to invoice PDF: \")\n",
        "\n",
        "# Open the PDF file using the PdfReader class\n",
        "with open(pdf_path, 'rb') as pdf_file:\n",
        "    pdf_reader = PdfReader(pdf_file)\n",
        "\n",
        "    # Access the pages in the PDF file using the pages attribute\n",
        "    page_one = pdf_reader.pages[0]\n",
        "    page1 = page_one.extract_text()\n",
        "    page_two = pdf_reader.pages[1]\n",
        "    page2 = page_two.extract_text()\n",
        "\n",
        "# Close the PDF file\n",
        "pdf_file.close()\n",
        "\n",
        "print('PDF extraction successful.')\n"
      ],
      "metadata": {
        "id": "dEEpQO80hoPu",
        "colab": {
          "base_uri": "https://localhost:8080/"
        },
        "outputId": "18608764-9ff6-4cfb-bc42-3716ff1c3e8c"
      },
      "execution_count": null,
      "outputs": [
        {
          "output_type": "stream",
          "name": "stdout",
          "text": [
            "What is the invoice date? Format: 'DD-MMM-YYYY' 23-Nov-2023\n",
            "Specify unique Xero Invoice Number: AutoINV-004003\n",
            "Paste (ctrl V) 'file path' to invoice PDF: /content/GppPayments.pdf\n",
            "PDF extraction successful.\n"
          ]
        }
      ]
    },
    {
      "cell_type": "markdown",
      "source": [
        "# **Parsing** invoice info from text."
      ],
      "metadata": {
        "id": "Brf9wCkHYwrd"
      }
    },
    {
      "cell_type": "code",
      "source": [
        "#Prepare Python List from extracted data - Check Current Format\n",
        "list_all = page1 + page2\n",
        "list_all2 = list_all.splitlines()\n",
        "\n",
        "#print(\"Output > list_all2 \", type(list_all2), \"Successful\")\n",
        "print(list_all)"
      ],
      "metadata": {
        "id": "kPCAIyH2TLbE",
        "colab": {
          "base_uri": "https://localhost:8080/"
        },
        "outputId": "98061e89-1627-4188-b7b4-c2233f299aca"
      },
      "execution_count": null,
      "outputs": [
        {
          "output_type": "stream",
          "name": "stdout",
          "text": [
            "GPP Payments\n",
            "Statement Date : 20/11/2023\n",
            "Contractor ID : E87750\n",
            "Net : £68,905.09\n",
            "Invoice NHSE : £1,790.68\n",
            "Credit NHSE : £0.00\n",
            "Invoice COM : £74,812.49\n",
            "Credit COM : -£7,698.08\n",
            "Statement : November - The Surgery (E87750)\n",
            "Ref. no : 543680\n",
            "Description \n",
            "GMS/PMS/APMS Contract Value \n",
            "GMS/PMS/APMS Contract Value \n",
            "Calculation of Monthly Global Sum Payment 428,343.68 \n",
            "Temporary Residents Adjustment 2,107.77 Add\n",
            "London Weighting Allowance 9,134.20 Add\n",
            "Superannuation Premium 0.00 Add\n",
            "Appraisal Premium 0.00 Add\n",
            "Adjusted Global Sum Annual Payment ------------- \n",
            "439,585.65 \n",
            "Equals \n",
            "Initial Global Sum Monthly Payment 36,632.14 \n",
            "Additional Service Opt Outs 0.00 Minus \n",
            "Capitation Monthly Payment GMS/PMS/APMS (OCT, NOV & DEC) ------------- \n",
            "36,632.14 \n",
            "Additonal Opt Out Details \n",
            "Total  0.00  \n",
            "Capitation Data (GP Practice) \n",
            "Main Surgery Postcode SW59JA \n",
            "Raw Practice List Size 4,220 \n",
            "Count of Patients Registered in Past Twelve Months 709\n",
            "Patients Average distance to main surgery (metres) 272.84121 \n",
            "Practices Population Density 146.16074 \n",
            "Practice Count of Patients in Residential Care 0\n",
            "Raw Practice List Size 4,220 \n",
            "Divided by\n",
            "PCO Raw population Current Quarter 234,276.00000 \n",
            "Multiplied by\n",
            "PCO Weighted Population Current Quarter 213,831.88727 \n",
            "Equals\n",
            "Practice Normalised List Size 3,851.74138 \n",
            "Multiplied by Practice Weighted Index Values\n",
            "Practice Age / Sex Index (PASI) 0.98334 \n",
            "Practice Additional Needs Index (PANI) 1.02772 \n",
            "Practice List Turnover Index (PLTI) 1.02537 \n",
            "Practice Market Forces Factor Index (PMFFI) 0.99995 \n",
            "Practice Rurality Index 1.02181 \n",
            "Practice Residential Nursing Home Index (PRNHI) 0.99991 \n",
            "Equals\n",
            "Practice Weighted List Size 4,077.76697 \n",
            "Capitation Data (For Host PCO)\n",
            "Host PCO Code 5LA\n",
            "Multiplied by\n",
            "PCO Weighted Population Current Quarter 213,831.88727 \n",
            "Divided by\n",
            "PCO Weighted List Size 213,193.32979 \n",
            "Equals\n",
            "Practice Normalised Weighted List Size 4,089.98071 \n",
            "Practice Age / Sex Breakdown \n",
            "Age Sex BreakDown Male Weight Female Weight \n",
            "Age Group 0-4 58 3.97 41 3.64\n",
            "Age Group 5-14 147 1.00 126 1.04\n",
            "Age Group 15-44 1028 1.02 921 2.19\n",
            "Age Group 45-64 843 2.15 563 3.36\n",
            "Age Group 65-74 133 4.19 151 4.90\n",
            "Age Group 75-84 66 5.81 84 6.56\n",
            "Age Group 85 And Over 21 6.27 38 6.72\n",
            "Adjustments \n",
            "Paycode Description A/M Source £\n",
            "GSUMG COM £2,513.85\n",
            "GSUMG COM £2,486.88\n",
            "Claims \n",
            "Adjustments \n",
            "Paycode Description A/M Source £\n",
            "RANDR 2023-2024 ICBRates 01/05/23 to 31/03/24 M COM £3,834.83Quality Outcomes Framework \n",
            "Quality Outcomes Framework \n",
            "Type Source £\n",
            "Aspiration COM £2,217.12\n",
            "Adjustments \n",
            "Adjustments \n",
            "Paycode Description A/M Source £\n",
            "QUACHG PY 2022/23 new adj value Atrial Fibrillation (AF) QOF Achvemnt A COM £11.90\n",
            "Enhanced Services \n",
            "Enhanced Services \n",
            "Paycode Description Source £\n",
            "MENCBG Men B - GMS NHSE £10.06\n",
            "SHINGG Shingles Immunisation (GMS) NHSE £20.12\n",
            "ZPERTG Pertussis (Whooping Cough) NHSE £20.12\n",
            "PNEUMG Pneumoc Imm DES (GMS) NHSE £30.18\n",
            "MMRVAG Measles Mumps and Rubella (MMR) Vaccinations (GMS) NHSE £40.24\n",
            "CDFLUG Childhood Flu DES (GMS) NHSE £50.30\n",
            "SIXVAG C&M-GMS - 6 in 1 Vaccination NHSE £50.30\n",
            "INFLUG Influenza DES (GMS) NHSE £1,569.36\n",
            "DESPRG GMS DES Participation in the PCN COM £592.51\n",
            "Adjustments \n",
            "Adjustments \n",
            "Paycode Description A/M Source £\n",
            "ZPRCAG LBS End of Life Apr-Mar24 M COM £144.68\n",
            "ZPRCAG LBS Support For Carers Apr-Mar24 M COM £649.37\n",
            "ZPRCAG LBS MCMW Apr-Mar24 M COM £1,862.47\n",
            "ZPRCAG LBS Access Apr-Mar24 M COM £2,271.11\n",
            "NRENT 23/24 Notional Rent Nov23 A COM £8,845.83\n",
            "Adjustments \n",
            "Adjustments \n",
            "Paycode Description A/M Source £\n",
            "STATL Statutory Levy deductions Jun-Mar24 M COM -£203.59\n",
            "Pension Contributions \n",
            "Employee's Superannuation Contributions \n",
            "GMC Code Name Tier Rate £\n",
            "2752763 Orietta Emiliani 9.8 -£285.83\n",
            "Adjustments \n",
            "Paycode Description A/M Source £\n",
            "PRYEEG Bourhan Ali Adib - 2017/18 - AdjEOY M COM -£3,757.15\n",
            "PRYEEG Bourhan Ali Adib - 2015/16 - 2015/16 CORRECTION M COM £5,400.44\n",
            "PRYEEG Bourhan Ali Adib - 2016/17 - AdjEOY M COM £845.29\n",
            "Employer's Superannuation Contributions \n",
            "GMC Code Name Tier Rate £\n",
            "2752763 Orietta Emiliani 14.38 -£419.42\n",
            "Adjustments \n",
            "Paycode Description A/M Source £\n",
            "PRYERG Bourhan Ali Adib - 2017/18 - AdjEOY M COM -£3,032.09\n",
            "PRYERG Bourhan Ali Adib - 2015/16 - 2015/16 CORRECTION M COM £5,325.44\n",
            "PRYERG Bourhan Ali Adib - 2016/17 - AdjEOY M COM £1,178.63\n",
            "Total Amount Paid £68,905.09 \n"
          ]
        }
      ]
    },
    {
      "cell_type": "code",
      "source": [
        "# The phrase to remove\n",
        "phrase_to_remove = 'Quality Outcomes Framework'\n",
        "\n",
        "# Use a list comprehension to create a new list with the phrase removed from each string\n",
        "modified_list = [my_string.replace(phrase_to_remove, '') for my_string in list_all2]\n",
        "\n",
        "# Print the modified list\n",
        "print(modified_list)"
      ],
      "metadata": {
        "colab": {
          "base_uri": "https://localhost:8080/"
        },
        "id": "Mk9bohLV2HVc",
        "outputId": "54d30a04-7a73-42c9-ea38-14571d8c25d1"
      },
      "execution_count": null,
      "outputs": [
        {
          "output_type": "stream",
          "name": "stdout",
          "text": [
            "['GPP Payments', 'Statement Date : 20/11/2023', 'Contractor ID : E87750', 'Net : £68,905.09', 'Invoice NHSE : £1,790.68', 'Credit NHSE : £0.00', 'Invoice COM : £74,812.49', 'Credit COM : -£7,698.08', 'Statement : November - The Surgery (E87750)', 'Ref. no : 543680', 'Description ', 'GMS/PMS/APMS Contract Value ', 'GMS/PMS/APMS Contract Value ', 'Calculation of Monthly Global Sum Payment 428,343.68 ', 'Temporary Residents Adjustment 2,107.77 Add', 'London Weighting Allowance 9,134.20 Add', 'Superannuation Premium 0.00 Add', 'Appraisal Premium 0.00 Add', 'Adjusted Global Sum Annual Payment ------------- ', '439,585.65 ', 'Equals ', 'Initial Global Sum Monthly Payment 36,632.14 ', 'Additional Service Opt Outs 0.00 Minus ', 'Capitation Monthly Payment GMS/PMS/APMS (OCT, NOV & DEC) ------------- ', '36,632.14 ', 'Additonal Opt Out Details ', 'Total  0.00  ', 'Capitation Data (GP Practice) ', 'Main Surgery Postcode SW59JA ', 'Raw Practice List Size 4,220 ', 'Count of Patients Registered in Past Twelve Months 709', 'Patients Average distance to main surgery (metres) 272.84121 ', 'Practices Population Density 146.16074 ', 'Practice Count of Patients in Residential Care 0', 'Raw Practice List Size 4,220 ', 'Divided by', 'PCO Raw population Current Quarter 234,276.00000 ', 'Multiplied by', 'PCO Weighted Population Current Quarter 213,831.88727 ', 'Equals', 'Practice Normalised List Size 3,851.74138 ', 'Multiplied by Practice Weighted Index Values', 'Practice Age / Sex Index (PASI) 0.98334 ', 'Practice Additional Needs Index (PANI) 1.02772 ', 'Practice List Turnover Index (PLTI) 1.02537 ', 'Practice Market Forces Factor Index (PMFFI) 0.99995 ', 'Practice Rurality Index 1.02181 ', 'Practice Residential Nursing Home Index (PRNHI) 0.99991 ', 'Equals', 'Practice Weighted List Size 4,077.76697 ', 'Capitation Data (For Host PCO)', 'Host PCO Code 5LA', 'Multiplied by', 'PCO Weighted Population Current Quarter 213,831.88727 ', 'Divided by', 'PCO Weighted List Size 213,193.32979 ', 'Equals', 'Practice Normalised Weighted List Size 4,089.98071 ', 'Practice Age / Sex Breakdown ', 'Age Sex BreakDown Male Weight Female Weight ', 'Age Group 0-4 58 3.97 41 3.64', 'Age Group 5-14 147 1.00 126 1.04', 'Age Group 15-44 1028 1.02 921 2.19', 'Age Group 45-64 843 2.15 563 3.36', 'Age Group 65-74 133 4.19 151 4.90', 'Age Group 75-84 66 5.81 84 6.56', 'Age Group 85 And Over 21 6.27 38 6.72', 'Adjustments ', 'Paycode Description A/M Source £', 'GSUMG COM £2,513.85', 'GSUMG COM £2,486.88', 'Claims ', 'Adjustments ', 'Paycode Description A/M Source £', 'RANDR 2023-2024 ICBRates 01/05/23 to 31/03/24 M COM £3,834.83 ', ' ', 'Type Source £', 'Aspiration COM £2,217.12', 'Adjustments ', 'Adjustments ', 'Paycode Description A/M Source £', 'QUACHG PY 2022/23 new adj value Atrial Fibrillation (AF) QOF Achvemnt A COM £11.90', 'Enhanced Services ', 'Enhanced Services ', 'Paycode Description Source £', 'MENCBG Men B - GMS NHSE £10.06', 'SHINGG Shingles Immunisation (GMS) NHSE £20.12', 'ZPERTG Pertussis (Whooping Cough) NHSE £20.12', 'PNEUMG Pneumoc Imm DES (GMS) NHSE £30.18', 'MMRVAG Measles Mumps and Rubella (MMR) Vaccinations (GMS) NHSE £40.24', 'CDFLUG Childhood Flu DES (GMS) NHSE £50.30', 'SIXVAG C&M-GMS - 6 in 1 Vaccination NHSE £50.30', 'INFLUG Influenza DES (GMS) NHSE £1,569.36', 'DESPRG GMS DES Participation in the PCN COM £592.51', 'Adjustments ', 'Adjustments ', 'Paycode Description A/M Source £', 'ZPRCAG LBS End of Life Apr-Mar24 M COM £144.68', 'ZPRCAG LBS Support For Carers Apr-Mar24 M COM £649.37', 'ZPRCAG LBS MCMW Apr-Mar24 M COM £1,862.47', 'ZPRCAG LBS Access Apr-Mar24 M COM £2,271.11', 'NRENT 23/24 Notional Rent Nov23 A COM £8,845.83', 'Adjustments ', 'Adjustments ', 'Paycode Description A/M Source £', 'STATL Statutory Levy deductions Jun-Mar24 M COM -£203.59', 'Pension Contributions ', \"Employee's Superannuation Contributions \", 'GMC Code Name Tier Rate £', '2752763 Orietta Emiliani 9.8 -£285.83', 'Adjustments ', 'Paycode Description A/M Source £', 'PRYEEG Bourhan Ali Adib - 2017/18 - AdjEOY M COM -£3,757.15', 'PRYEEG Bourhan Ali Adib - 2015/16 - 2015/16 CORRECTION M COM £5,400.44', 'PRYEEG Bourhan Ali Adib - 2016/17 - AdjEOY M COM £845.29', \"Employer's Superannuation Contributions \", 'GMC Code Name Tier Rate £', '2752763 Orietta Emiliani 14.38 -£419.42', 'Adjustments ', 'Paycode Description A/M Source £', 'PRYERG Bourhan Ali Adib - 2017/18 - AdjEOY M COM -£3,032.09', 'PRYERG Bourhan Ali Adib - 2015/16 - 2015/16 CORRECTION M COM £5,325.44', 'PRYERG Bourhan Ali Adib - 2016/17 - AdjEOY M COM £1,178.63', 'Total Amount Paid £68,905.09 ']\n"
          ]
        }
      ]
    },
    {
      "cell_type": "code",
      "source": [
        "import re\n",
        "\n",
        "# Assuming you have a list like this\n",
        "my_list = [\"Another string with £1200.50Quality Outcomes Framework\",\n",
        "           \"£1235678.99Quality\",\n",
        "           \"Yet another string without the phrase\"]\n",
        "\n",
        "# Define a regular expression pattern to match numbers and a decimal point after the pound sign\n",
        "pattern = r'£(\\d+(\\.\\d+)?)'\n",
        "\n",
        "# Use a list comprehension to extract the matched numbers\n",
        "extracted_numbers = [re.search(pattern, my_string).group(1) if re.search(pattern, my_string) else None for my_string in my_list]\n",
        "\n",
        "# Print the extracted numbers\n",
        "print(extracted_numbers)"
      ],
      "metadata": {
        "colab": {
          "base_uri": "https://localhost:8080/"
        },
        "id": "_BUjjRIN6JN_",
        "outputId": "fb65433b-6c7f-46e0-f5c2-5da671dfa041"
      },
      "execution_count": null,
      "outputs": [
        {
          "output_type": "stream",
          "name": "stdout",
          "text": [
            "['1200.50', '1235678.99', None]\n"
          ]
        }
      ]
    },
    {
      "cell_type": "markdown",
      "source": [
        "Removing no-invoicable data - append to **final_list**.<BR>\n",
        "Finding **Global Sum** Amount."
      ],
      "metadata": {
        "id": "F_uZlc-FsuMe"
      }
    },
    {
      "cell_type": "code",
      "source": [
        "#Extract Total Paid to variable\n",
        "total_paid = list_all2[-1]\n",
        "total_amount = float(total_paid.split('£')[-1].replace(\",\",\"\"))\n",
        "print(\"Total Paid - \", total_amount)\n",
        "\n",
        "counta = 0\n",
        "final_list = []\n",
        "exclude_list = [\"Paycode Description\", \"GMC Code Name Tier Rate\", \"Paycode Description\", \"Type Source\", \"Total Amount Paid\", \"Invoice\", \"Net\", \"Credit\", \"Percentage Received\",  'GMC Code Name Month']\n",
        "\n",
        "iter_index = 0\n",
        "# first iter over list_all2 with list comprehension to find index of Global sum +1 and extract for proceeding.\n",
        "for list in list_all2:\n",
        "  if [ex for ex in exclude_list if(ex in list)]:\n",
        "    #print(\"Invoice Line Removed - \", iter_index)\n",
        "    iter_index = iter_index +1\n",
        "\n",
        "  elif \"£\" in list:\n",
        "    final_list.append(str(list))\n",
        "    counta = counta +1\n",
        "    iter_index = iter_index +1\n",
        "\n",
        "# Find Index of Global Sum ammount in all_list2\n",
        "iter_index = 0\n",
        "search_text = \"Capitation Monthly Payment\"\n",
        "for list in list_all2:\n",
        "  if search_text not in list:\n",
        "    iter_index = iter_index + 1\n",
        "\n",
        "  else:\n",
        "    print(\"Global Sum Amount found - list_all2 index: \" + str(iter_index + 1))\n",
        "    global_sum_index = iter_index + 1\n",
        "\n",
        "globalsum_amount = list_all2[global_sum_index]\n",
        "globalsum_amount = globalsum_amount.rstrip().replace(\",\",\"\")\n",
        "print(globalsum_amount)\n",
        "global_sum_str = \"Global Sum £\"+ str(globalsum_amount)\n",
        "#print(global_sum_str)\n",
        "final_list.append(global_sum_str)\n",
        "\n",
        "#print(\"final_list created - entries = \" + str(len(final_list)))\n",
        "print(final_list)\n",
        "print(\"Global Sum - **Successful**\")"
      ],
      "metadata": {
        "id": "zdRiQ0_yXIKl",
        "colab": {
          "base_uri": "https://localhost:8080/"
        },
        "outputId": "e00868d8-4cea-4c20-a728-479b97d40a6b"
      },
      "execution_count": null,
      "outputs": [
        {
          "output_type": "stream",
          "name": "stdout",
          "text": [
            "Total Paid -  68905.09\n",
            "Global Sum Amount found - list_all2 index: 24\n",
            "36632.14\n",
            "['GSUMG COM £2,513.85', 'GSUMG COM £2,486.88', 'RANDR 2023-2024 ICBRates 01/05/23 to 31/03/24 M COM £3,834.83Quality Outcomes Framework ', 'Aspiration COM £2,217.12', 'QUACHG PY 2022/23 new adj value Atrial Fibrillation (AF) QOF Achvemnt A COM £11.90', 'MENCBG Men B - GMS NHSE £10.06', 'SHINGG Shingles Immunisation (GMS) NHSE £20.12', 'ZPERTG Pertussis (Whooping Cough) NHSE £20.12', 'PNEUMG Pneumoc Imm DES (GMS) NHSE £30.18', 'MMRVAG Measles Mumps and Rubella (MMR) Vaccinations (GMS) NHSE £40.24', 'CDFLUG Childhood Flu DES (GMS) NHSE £50.30', 'SIXVAG C&M-GMS - 6 in 1 Vaccination NHSE £50.30', 'INFLUG Influenza DES (GMS) NHSE £1,569.36', 'DESPRG GMS DES Participation in the PCN COM £592.51', 'ZPRCAG LBS End of Life Apr-Mar24 M COM £144.68', 'ZPRCAG LBS Support For Carers Apr-Mar24 M COM £649.37', 'ZPRCAG LBS MCMW Apr-Mar24 M COM £1,862.47', 'ZPRCAG LBS Access Apr-Mar24 M COM £2,271.11', 'NRENT 23/24 Notional Rent Nov23 A COM £8,845.83', 'STATL Statutory Levy deductions Jun-Mar24 M COM -£203.59', '2752763 Orietta Emiliani 9.8 -£285.83', 'PRYEEG Bourhan Ali Adib - 2017/18 - AdjEOY M COM -£3,757.15', 'PRYEEG Bourhan Ali Adib - 2015/16 - 2015/16 CORRECTION M COM £5,400.44', 'PRYEEG Bourhan Ali Adib - 2016/17 - AdjEOY M COM £845.29', '2752763 Orietta Emiliani 14.38 -£419.42', 'PRYERG Bourhan Ali Adib - 2017/18 - AdjEOY M COM -£3,032.09', 'PRYERG Bourhan Ali Adib - 2015/16 - 2015/16 CORRECTION M COM £5,325.44', 'PRYERG Bourhan Ali Adib - 2016/17 - AdjEOY M COM £1,178.63', 'Global Sum £36632.14']\n",
            "Global Sum - **Successful**\n"
          ]
        }
      ]
    },
    {
      "cell_type": "markdown",
      "source": [
        "# Prepare data for **DataFrame**\n",
        "* Splitting invoice description and amount.\n",
        "* **Append** column lists for dataframe."
      ],
      "metadata": {
        "id": "Ev6axZ_Jtr5v"
      }
    },
    {
      "cell_type": "code",
      "source": [
        "import re\n",
        "\n",
        "# Assuming you have a string like this\n",
        "my_string = \"135555666.99Qutcome\"\n",
        "\n",
        "# Define a regular expression pattern to match numbers and a decimal point\n",
        "pattern = r'(\\d+(\\.\\d+)?)'\n",
        "\n",
        "# Use re.search to find the pattern in the string\n",
        "result = re.search(pattern, my_string)\n",
        "\n",
        "# Extract the matched numbers\n",
        "extracted_numbers = result.group(1) if result else None\n",
        "\n",
        "# Print the extracted numbers\n",
        "print(extracted_numbers)"
      ],
      "metadata": {
        "colab": {
          "base_uri": "https://localhost:8080/"
        },
        "id": "DBSiViLu9pUK",
        "outputId": "4c506b49-c94e-4298-a47e-f456504a7d6d"
      },
      "execution_count": null,
      "outputs": [
        {
          "output_type": "stream",
          "name": "stdout",
          "text": [
            "135555666.99\n"
          ]
        }
      ]
    },
    {
      "cell_type": "code",
      "source": [
        "import re\n",
        "pattern = r'(\\d+(\\.\\d+)?)'\n",
        "\n",
        "#Declairing required variables.\n",
        "contact_name = []\n",
        "email_address = []\n",
        "PO1 = []\n",
        "PO2 = []\n",
        "PO3 = []\n",
        "PO4 = []\n",
        "city = []\n",
        "PO_region = []\n",
        "postal_code = []\n",
        "country = []\n",
        "address1 = []\n",
        "address2 = []\n",
        "address3 = []\n",
        "address4 = []\n",
        "sa_city = []\n",
        "sa_region = []\n",
        "sa_postalcode = []\n",
        "sa_country = []\n",
        "invoice_number = []\n",
        "ref = []\n",
        "invoice_date = []\n",
        "due_date = []\n",
        "planned_date = []\n",
        "total = []\n",
        "tax_total = []\n",
        "invoice_amount_paid = []\n",
        "invoice_amount_due = []\n",
        "inv_item_code = []\n",
        "description = []\n",
        "quantitiy = []\n",
        "unit_amount = []\n",
        "line_amount = []\n",
        "account_code = []\n",
        "tax_type = []\n",
        "discount =[]\n",
        "tax_amount = []\n",
        "trackn1 = []\n",
        "tracko1 = []\n",
        "trackn2 = []\n",
        "tracko2 = []\n",
        "currency = []\n",
        "type_ = []\n",
        "sent = []\n",
        "status = []\n",
        "\n",
        "#function to assign Account Code\n",
        "\n",
        "account_code_dic = {\n",
        "    \"rates\": \"102\",\n",
        "    \"childhood flu\": \"124A\",\n",
        "    \"influenza\": \"124\",\n",
        "    \"mmr\": \"137\",\n",
        "    \"pneumoc\": \"125\",\n",
        "    \"rotavirus\": \"128\",\n",
        "    \"hpv\": \"158\",\n",
        "    \"men b\": \"135\",\n",
        "    \"hib/men c\": \"135A\",\n",
        "    \"6 in 1\": \"120\",\n",
        "    \"pms cis\": \"209\",\n",
        "    \"last phase of life\": \"165\",\n",
        "    \"hard to reach\": \"193\",\n",
        "    \"carers\": \"193\",\n",
        "    \"my way\": \"183B\",\n",
        "    \"access\": \"193\",\n",
        "    \"long covid\": \"193\",\n",
        "    \"pcn participation\": \"250B\",\n",
        "    \"rent\": \"111\",\n",
        "    \"prescribing\": \"203\",\n",
        "    \"ecg\": \"185\",\n",
        "    \"spoke\": \"132A\",\n",
        "    \"warfarin\": \"181\",\n",
        "    \"homeless\": \"186\",\n",
        "    \"wound\": \"192\",\n",
        "    \"mental\": \"187\",\n",
        "    \"diabetes\": \"184\",\n",
        "    \"phlebotomy\": \"189\",\n",
        "    \"coordinate\": \"183\",\n",
        "    \"levy\": \"523\",\n",
        "    \"global\": \"100\",\n",
        "    \"aspiration\": \"103\"\n",
        "}\n",
        "\n",
        "#function to assign account_code\n",
        "def get_account_no(invoice_description):\n",
        "  output = \"\"\n",
        "  for x, y in account_code_dic.items():\n",
        "    if x in invoice_description:\n",
        "      output = y\n",
        "    else:\n",
        "      pass\n",
        "  return output\n",
        "\n",
        "\n",
        "for l in final_list:\n",
        "  if \"-------------\" in l:\n",
        "\n",
        "    index_in_l = final_list.index(\"-----------\")\n",
        "    print(\"****** Global Sum on next String **********\", index_in_l)\n",
        "\n",
        "    #value_pair_list = list.split(\"£\")\n",
        "    #net_income_str = value_pair_list[-1]\n",
        "    #remove ',' from str\n",
        "    #net_income = net_income_str.replace(\",\", \"\")\n",
        "    #net_income = float(net_income)\n",
        "    #print(\"Net Income = \", net_income, type(net_income))\n",
        "\n",
        "  elif \"-£\" in l:\n",
        "    print('invoiceable MINUS - '+ l)\n",
        "\n",
        "    value_pair_list = l.split(\"-£\")\n",
        "    invoicable_desc = value_pair_list[0]\n",
        "    invcoice_desc_lower = invoicable_desc.lower()\n",
        "    value_pair_list = l.split(\"£\")\n",
        "    invoicable_desc = l[0]\n",
        "    invoicable_value_str = value_pair_list[-1].replace(\",\",\"\")\n",
        "    result = re.search(pattern, invoicable_value_str)\n",
        "    extracted_numbers = result.group(1) if result else None\n",
        "    invoicable_value = float(extracted_numbers)\n",
        "\n",
        "    contact_name.append('NHS England GMS')\n",
        "    email_address.append(\"\")\n",
        "    PO1.append(\"\")\n",
        "    PO2.append('')\n",
        "    PO3.append('')\n",
        "    PO4.append('')\n",
        "    city.append('')\n",
        "    PO_region.append('')\n",
        "    postal_code.append('')\n",
        "    country.append('')\n",
        "    address1.append('')\n",
        "    address2.append('')\n",
        "    address3.append('')\n",
        "    address4.append('')\n",
        "    sa_city.append('')\n",
        "    sa_region.append('')\n",
        "    sa_postalcode.append('')\n",
        "    sa_country.append('')\n",
        "    invoice_number.append(invoice_number_input)\n",
        "    ref.append('')\n",
        "    invoice_date.append(invoice_date_input)\n",
        "    due_date.append(invoice_date_input)\n",
        "    planned_date.append('')\n",
        "    tax_total.append(0)\n",
        "    invoice_amount_paid.append(0)\n",
        "    inv_item_code.append('')\n",
        "    description.append(invoicable_desc)\n",
        "    quantitiy.append(1)\n",
        "    unit_amount.append(invoicable_value)\n",
        "    invoice_amount_due.append(invoicable_value)\n",
        "    discount.append('')\n",
        "    line_amount.append(invoicable_value)\n",
        "    tax_type.append('No VAT')\n",
        "    tax_amount.append(0)\n",
        "    trackn1.append('')\n",
        "    tracko1.append('')\n",
        "    trackn2.append('')\n",
        "    tracko2.append('')\n",
        "    currency.append('GBP')\n",
        "    type_.append('Sales Invoice')\n",
        "    sent.append('')\n",
        "    status.append('')\n",
        "    account_code.append(get_account_no(invcoice_desc_lower))\n",
        "\n",
        "  else:\n",
        "    print(\"invoiceable POS - \"+ l)\n",
        "\n",
        "    value_pair_list = l.split(\"£\")\n",
        "    invoicable_desc = value_pair_list[0]\n",
        "    invcoice_desc_lower = invoicable_desc.lower()\n",
        "    invoicable_value_str = value_pair_list[-1].replace(\",\",\"\")\n",
        "    result = re.search(pattern, invoicable_value_str)\n",
        "    extracted_numbers = result.group(1) if result else None\n",
        "    invoicable_value = float(extracted_numbers)\n",
        "\n",
        "\n",
        "    contact_name.append('NHS England GMS')\n",
        "    email_address.append(\"\")\n",
        "    PO1.append(\"\")\n",
        "    PO2.append('')\n",
        "    PO3.append('')\n",
        "    PO4.append('')\n",
        "    city.append('')\n",
        "    PO_region.append('')\n",
        "    postal_code.append('')\n",
        "    country.append('')\n",
        "    address1.append('')\n",
        "    address2.append('')\n",
        "    address3.append('')\n",
        "    address4.append('')\n",
        "    sa_city.append('')\n",
        "    sa_region.append('')\n",
        "    sa_postalcode.append('')\n",
        "    sa_country.append('')\n",
        "    invoice_number.append(invoice_number_input)\n",
        "    ref.append('')\n",
        "    invoice_date.append(invoice_date_input)\n",
        "    due_date.append(invoice_date_input)\n",
        "    planned_date.append('')\n",
        "    tax_total.append(0)\n",
        "    invoice_amount_paid.append(0)\n",
        "    inv_item_code.append('')\n",
        "    description.append(invoicable_desc)\n",
        "    quantitiy.append(1)\n",
        "    unit_amount.append(invoicable_value)\n",
        "    discount.append('')\n",
        "    line_amount.append(invoicable_value)\n",
        "    invoice_amount_due.append(invoicable_value)\n",
        "    account_code.append(get_account_no(invcoice_desc_lower))\n",
        "    tax_type.append('No VAT')\n",
        "    tax_amount.append(0)\n",
        "    trackn1.append('')\n",
        "    tracko1.append('')\n",
        "    trackn2.append('')\n",
        "    tracko2.append('')\n",
        "    currency.append('GBP')\n",
        "    type_.append('Sales Invoice')\n",
        "    sent.append('')\n",
        "    status.append('')\n",
        "\n",
        "#Calculte the SUM of all the valuse on the list invoicable_value - create 2 lists total and invoice_amount_due\n",
        "invoice_total_sum=0\n",
        "total = []\n",
        "invoice_total_sum = sum(unit_amount)\n",
        "total = [invoice_total_sum] * len(currency)\n",
        "print(\"**Successful**\")\n"
      ],
      "metadata": {
        "id": "X6eHM9J0uD0k",
        "colab": {
          "base_uri": "https://localhost:8080/"
        },
        "outputId": "58496ddf-8123-4ee6-c383-3b2467e8d2e6"
      },
      "execution_count": null,
      "outputs": [
        {
          "output_type": "stream",
          "name": "stdout",
          "text": [
            "invoiceable POS - GSUMG COM £2,513.85\n",
            "invoiceable POS - GSUMG COM £2,486.88\n",
            "invoiceable POS - RANDR 2023-2024 ICBRates 01/05/23 to 31/03/24 M COM £3,834.83Quality Outcomes Framework \n",
            "invoiceable POS - Aspiration COM £2,217.12\n",
            "invoiceable POS - QUACHG PY 2022/23 new adj value Atrial Fibrillation (AF) QOF Achvemnt A COM £11.90\n",
            "invoiceable POS - MENCBG Men B - GMS NHSE £10.06\n",
            "invoiceable POS - SHINGG Shingles Immunisation (GMS) NHSE £20.12\n",
            "invoiceable POS - ZPERTG Pertussis (Whooping Cough) NHSE £20.12\n",
            "invoiceable POS - PNEUMG Pneumoc Imm DES (GMS) NHSE £30.18\n",
            "invoiceable POS - MMRVAG Measles Mumps and Rubella (MMR) Vaccinations (GMS) NHSE £40.24\n",
            "invoiceable POS - CDFLUG Childhood Flu DES (GMS) NHSE £50.30\n",
            "invoiceable POS - SIXVAG C&M-GMS - 6 in 1 Vaccination NHSE £50.30\n",
            "invoiceable POS - INFLUG Influenza DES (GMS) NHSE £1,569.36\n",
            "invoiceable POS - DESPRG GMS DES Participation in the PCN COM £592.51\n",
            "invoiceable POS - ZPRCAG LBS End of Life Apr-Mar24 M COM £144.68\n",
            "invoiceable POS - ZPRCAG LBS Support For Carers Apr-Mar24 M COM £649.37\n",
            "invoiceable POS - ZPRCAG LBS MCMW Apr-Mar24 M COM £1,862.47\n",
            "invoiceable POS - ZPRCAG LBS Access Apr-Mar24 M COM £2,271.11\n",
            "invoiceable POS - NRENT 23/24 Notional Rent Nov23 A COM £8,845.83\n",
            "invoiceable MINUS - STATL Statutory Levy deductions Jun-Mar24 M COM -£203.59\n",
            "invoiceable MINUS - 2752763 Orietta Emiliani 9.8 -£285.83\n",
            "invoiceable MINUS - PRYEEG Bourhan Ali Adib - 2017/18 - AdjEOY M COM -£3,757.15\n",
            "invoiceable POS - PRYEEG Bourhan Ali Adib - 2015/16 - 2015/16 CORRECTION M COM £5,400.44\n",
            "invoiceable POS - PRYEEG Bourhan Ali Adib - 2016/17 - AdjEOY M COM £845.29\n",
            "invoiceable MINUS - 2752763 Orietta Emiliani 14.38 -£419.42\n",
            "invoiceable MINUS - PRYERG Bourhan Ali Adib - 2017/18 - AdjEOY M COM -£3,032.09\n",
            "invoiceable POS - PRYERG Bourhan Ali Adib - 2015/16 - 2015/16 CORRECTION M COM £5,325.44\n",
            "invoiceable POS - PRYERG Bourhan Ali Adib - 2016/17 - AdjEOY M COM £1,178.63\n",
            "invoiceable POS - Global Sum £36632.14\n",
            "**Successful**\n"
          ]
        }
      ]
    },
    {
      "cell_type": "markdown",
      "source": [
        "# Creating **Pandas DataFrame**\n"
      ],
      "metadata": {
        "id": "5_ZlBBmp-vU9"
      }
    },
    {
      "cell_type": "code",
      "source": [
        "import pandas as pd\n",
        "\n",
        "# dictionary of lists FUMCTION\n",
        "def make_dict():\n",
        "\n",
        "  dict = {\n",
        "    'ContactName': contact_name,\n",
        "    'EmailAddress': email_address,\n",
        "    'POAddressLine1':PO1,\n",
        "    'POAddressLine2': PO2,\n",
        "    'POAddressLine3': PO3,\n",
        "    'POAddressLine4': PO4,\n",
        "    'POCity': city,\n",
        "    'PORegion': PO_region,\n",
        "    'POPostalCode': postal_code,\n",
        "    'POCountry': country,\n",
        "    'SAAddressLine1': address1,\n",
        "    'SAAddressLine2': address2,\n",
        "    'SAAddressLine3': address3,\n",
        "    'SAAddressLine4': address4,\n",
        "    'SACity': sa_city,\n",
        "    'SARegion': sa_region,\n",
        "    'SAPostalCode': sa_postalcode,\n",
        "    'SACountry': sa_country,\n",
        "    'InvoiceNumber': invoice_number,\n",
        "    'Reference': ref,\n",
        "    'InvoiceDate': invoice_date,\n",
        "    'DueDate': invoice_date,\n",
        "    'PlannedDate': invoice_date,\n",
        "    'Total': total,\n",
        "    'TaxTotal': tax_total,\n",
        "    'InvoiceAmountPaid': invoice_amount_paid,\n",
        "    'InvoiceAmountDue': invoice_amount_due,\n",
        "    'InventoryItemCode': inv_item_code,\n",
        "    'Description': description,\n",
        "    'Quantity': quantitiy,\n",
        "    'UnitAmount': unit_amount,\n",
        "    'Discount': discount,\n",
        "    'LineAmount': line_amount,\n",
        "    'AccountCode': account_code,\n",
        "    'TaxType': tax_type,\n",
        "    'TaxAmount': tax_amount,\n",
        "    'TrackingName1': trackn1,\n",
        "    'TrackingOption1': tracko1,\n",
        "    'TrackingName2': trackn2,\n",
        "    'TrackingOption2': tracko2,\n",
        "    'Currency':\tcurrency,\n",
        "    'Type':\ttype_,\n",
        "    'Sent':\tsent,\n",
        "    'Status': status\n",
        "  }\n",
        "  return dict\n",
        "\n",
        "df = pd.DataFrame(make_dict())\n",
        "display(df.shape)\n",
        "\n",
        "print(\"DataFrame **Successful**\")"
      ],
      "metadata": {
        "id": "LNx9UhZs_Cca",
        "colab": {
          "base_uri": "https://localhost:8080/",
          "height": 53
        },
        "outputId": "393e3d9f-b058-4612-90ae-7eb6cb1a7f80"
      },
      "execution_count": null,
      "outputs": [
        {
          "output_type": "display_data",
          "data": {
            "text/plain": [
              "(29, 44)"
            ]
          },
          "metadata": {}
        },
        {
          "output_type": "stream",
          "name": "stdout",
          "text": [
            "DataFrame **Successful**\n"
          ]
        }
      ]
    },
    {
      "cell_type": "markdown",
      "source": [
        "# **Mount** Google Dirve for file export."
      ],
      "metadata": {
        "id": "s8vd3Fk_gC0a"
      }
    },
    {
      "cell_type": "code",
      "source": [
        "from google.colab import drive\n",
        "drive.mount('/content/drive')"
      ],
      "metadata": {
        "id": "3np-spPtdc5j",
        "colab": {
          "base_uri": "https://localhost:8080/"
        },
        "outputId": "6c540907-e1c7-4fa9-b534-585b8c52388c"
      },
      "execution_count": null,
      "outputs": [
        {
          "output_type": "stream",
          "name": "stdout",
          "text": [
            "Drive already mounted at /content/drive; to attempt to forcibly remount, call drive.mount(\"/content/drive\", force_remount=True).\n"
          ]
        }
      ]
    },
    {
      "cell_type": "markdown",
      "source": [
        "# ✋ Create a '**Xero Automation**' folder on your Google Drive.\n",
        "You only need to do this once! Please note the file name is **case sensitive**.<BR>\n",
        "[Open Google Drive in a new tab.](https://drive.google.com/drive/my-drive)\n"
      ],
      "metadata": {
        "id": "FGfELCoDglmq"
      }
    },
    {
      "cell_type": "markdown",
      "source": [
        "# Export **CSV** to Google Drive.\n",
        "The file will be saved in **Xero Automation** folder on your Google Drive."
      ],
      "metadata": {
        "id": "Zauvuw_jTM6s"
      }
    },
    {
      "cell_type": "code",
      "source": [
        "file_name = \"Xero Import CSV - \" + str(invoice_date_input) + \".csv\"\n",
        "output_path = \"/content/drive/MyDrive/Xero Automation/\" + file_name\n",
        "df.to_csv(output_path, index=False)\n",
        "\n",
        "print(\"✅ File Export Successful >>>  MyGoogleDrive/Xero Automation/\"  + file_name + \"\\n\")\n",
        "\n",
        "check_total = round(total_amount - invoice_total_sum, 2)\n",
        "\n",
        "if check_total > 0.0:\n",
        "  print(f\"PDF Invoice Total = £{total_amount}\")\n",
        "  print(f\"CSV Invoice Total = £{round(invoice_total_sum, 2)}\")\n",
        "  print(f\"⚠️ Manually add invoice item for £{check_total} to Xero after import. Code as NHS Income Other\")\n",
        "else:\n",
        "  print(\"👍 PDF Invoice Total and CSV Invoice Totals MATCHES!!\")\n",
        "\n"
      ],
      "metadata": {
        "id": "rlPPacnZTXBU",
        "colab": {
          "base_uri": "https://localhost:8080/"
        },
        "outputId": "fc6725f0-615b-44bf-f89c-590ee04db84b"
      },
      "execution_count": null,
      "outputs": [
        {
          "output_type": "stream",
          "name": "stdout",
          "text": [
            "✅ File Export Successful >>>  MyGoogleDrive/Xero Automation/Xero Import CSV - 23-Nov-2023.csv\n",
            "\n",
            "👍 PDF Invoice Total and CSV Invoice Totals MATCHES!!\n"
          ]
        }
      ]
    },
    {
      "cell_type": "code",
      "source": [],
      "metadata": {
        "id": "YhOmPIWidKP7"
      },
      "execution_count": null,
      "outputs": []
    }
  ]
}